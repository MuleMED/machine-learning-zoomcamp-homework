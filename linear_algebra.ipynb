{
 "cells": [
  {
   "cell_type": "markdown",
   "id": "816afc0d",
   "metadata": {},
   "source": [
    "# Linear Algebra"
   ]
  },
  {
   "cell_type": "markdown",
   "id": "17752b75",
   "metadata": {},
   "source": []
  },
  {
   "cell_type": "code",
   "execution_count": 1,
   "id": "265e948f",
   "metadata": {},
   "outputs": [],
   "source": [
    "# Importing the library\n",
    "import numpy as np\n",
    "import warnings\n",
    "warnings.filterwarnings(\"ignore\")\n"
   ]
  },
  {
   "cell_type": "code",
   "execution_count": 2,
   "id": "e6b294f5",
   "metadata": {},
   "outputs": [
    {
     "data": {
      "text/plain": [
       "<module 'numpy' from '/home/codespace/.local/lib/python3.12/site-packages/numpy/__init__.py'>"
      ]
     },
     "execution_count": 2,
     "metadata": {},
     "output_type": "execute_result"
    }
   ],
   "source": [
    "np"
   ]
  },
  {
   "cell_type": "markdown",
   "id": "1f29a0e7",
   "metadata": {},
   "source": [
    "## Creating arrays"
   ]
  },
  {
   "cell_type": "code",
   "execution_count": 3,
   "id": "c32ce795-4787-4611-a056-f5634c6fec98",
   "metadata": {},
   "outputs": [],
   "source": [
    "#Creating the U and V vectors\n",
    "u = np.array([2,4,5,6])\n",
    "v = np.array([1,0,0,2])"
   ]
  },
  {
   "cell_type": "code",
   "execution_count": 4,
   "id": "a38da4a1-3cd8-44d8-aba9-49d0c90769da",
   "metadata": {},
   "outputs": [],
   "source": [
    "#Inspecting the vectors U and V"
   ]
  },
  {
   "cell_type": "code",
   "execution_count": 5,
   "id": "2a31c941-bbd0-46ff-afcc-6ad98f33756d",
   "metadata": {},
   "outputs": [
    {
     "name": "stdout",
     "output_type": "stream",
     "text": [
      "The shape of U:\n",
      "(4,)\n",
      "[2 4 5 6]\n",
      "The shape of V:\n",
      "(4,)\n",
      "[1 0 0 2]\n"
     ]
    }
   ],
   "source": [
    "print(f'The shape of U:')\n",
    "print(u.shape)\n",
    "print(u)\n",
    "print(f'The shape of V:')\n",
    "print(v.shape)\n",
    "print(v)"
   ]
  },
  {
   "cell_type": "markdown",
   "id": "e585f1e0",
   "metadata": {},
   "source": [
    "## Using the inplut Dot method"
   ]
  },
  {
   "cell_type": "code",
   "execution_count": 6,
   "id": "e4792636-25a1-4b2f-929d-7b3fc8f4d6ef",
   "metadata": {},
   "outputs": [
    {
     "data": {
      "text/plain": [
       "np.int64(14)"
      ]
     },
     "execution_count": 6,
     "metadata": {},
     "output_type": "execute_result"
    }
   ],
   "source": [
    "#get the dot \n",
    "u.dot(v)"
   ]
  },
  {
   "cell_type": "markdown",
   "id": "57352cf8",
   "metadata": {},
   "source": [
    "## Using a custom define method"
   ]
  },
  {
   "cell_type": "markdown",
   "id": "cb9e8ecd",
   "metadata": {},
   "source": [
    "### Vector to Vector Multplication"
   ]
  },
  {
   "cell_type": "code",
   "execution_count": 7,
   "id": "1abdb32e-5978-4d3c-917e-74aa8482169f",
   "metadata": {},
   "outputs": [
    {
     "name": "stdout",
     "output_type": "stream",
     "text": [
      "12\n"
     ]
    }
   ],
   "source": [
    "def vector_vector_multplication(v,u):\n",
    "    assert u.shape[0] == v.shape[0]\n",
    "\n",
    "    n = u.shape[0]\n",
    "    result = 0.0\n",
    "\n",
    "    for i in range(n):\n",
    "        result = u[i] * v[i]\n",
    "    return result\n",
    "\n",
    "print(vector_vector_multplication(u,v))"
   ]
  },
  {
   "cell_type": "markdown",
   "id": "a71a2d0e",
   "metadata": {},
   "source": [
    "### Matrix -  Vector Multplication"
   ]
  },
  {
   "cell_type": "code",
   "execution_count": 8,
   "id": "b42b18a6-e1e6-46e1-9051-f20b8f512a39",
   "metadata": {},
   "outputs": [
    {
     "data": {
      "text/plain": [
       "(3, 4)"
      ]
     },
     "execution_count": 8,
     "metadata": {},
     "output_type": "execute_result"
    }
   ],
   "source": [
    "# 3 x 4 matrix\n",
    "m = np.array([\n",
    "    [2,4,5,6],\n",
    "    [1,2,1,2],\n",
    "    [3,1,2,1]\n",
    "])\n",
    "m.shape"
   ]
  },
  {
   "cell_type": "code",
   "execution_count": 9,
   "id": "a8669774-1b2d-42cb-ba4e-d3821ecd5659",
   "metadata": {},
   "outputs": [
    {
     "name": "stdout",
     "output_type": "stream",
     "text": [
      "(4, 1)\n"
     ]
    }
   ],
   "source": [
    "# 4 x 1 column vector\n",
    "k = np.array([\n",
    "    [1],\n",
    "    [0.5],\n",
    "    [2],\n",
    "    [1]\n",
    "])\n",
    "\n",
    "print(k.shape)"
   ]
  },
  {
   "cell_type": "code",
   "execution_count": 10,
   "id": "38718fa4-95a1-432a-b837-9fd220cf5d12",
   "metadata": {},
   "outputs": [
    {
     "name": "stdout",
     "output_type": "stream",
     "text": [
      "[20.   6.   8.5]\n"
     ]
    }
   ],
   "source": [
    "\n",
    "def matrix_vector_multplication(m, k):\n",
    "    u = np.array(m)\n",
    "    v = np.array(k)\n",
    "\n",
    "    assert u.shape[1] == v.shape[0]\n",
    "    n_rows = u.shape[0]\n",
    "    \n",
    "    result = np.zeros(n_rows)\n",
    "\n",
    "    for i in range(n_rows):\n",
    "            result[i] = np.dot(u[i],v)\n",
    "\n",
    "    return result\n",
    "\n",
    "\n",
    "\n",
    "print(matrix_vector_multplication(m, k))\n"
   ]
  },
  {
   "cell_type": "markdown",
   "id": "d64422d5",
   "metadata": {},
   "source": [
    "## Matrix by Matrix Multplication"
   ]
  },
  {
   "cell_type": "code",
   "execution_count": 17,
   "id": "47e23a43-3822-43c3-ae3f-e8eef7d4e084",
   "metadata": {},
   "outputs": [],
   "source": [
    "def matrix_matrix_multi(u,v):\n",
    "    assert v.shape[1] == u.shape[0]\n",
    "\n",
    "    n_rows = u.shape[0]\n",
    "    n_cols = v.shape[1]\n",
    "\n",
    "    result = np.zeros((n_rows,n_cols))\n",
    "\n",
    "    for i in range(n_rows):\n",
    "        for j in range(n_cols):\n",
    "            result[i][j]= np.dot(u[i],v[:,j])\n",
    "\n",
    "    return result"
   ]
  },
  {
   "cell_type": "code",
   "execution_count": 24,
   "id": "efa047b6-ebfe-4b36-8ebd-7fc71bb534d0",
   "metadata": {},
   "outputs": [
    {
     "name": "stdout",
     "output_type": "stream",
     "text": [
      "(2, 3)\n",
      "(3, 2)\n"
     ]
    }
   ],
   "source": [
    "u = np.array([\n",
    "    [1, 2, 3],\n",
    "    [4, 5, 6]\n",
    "])\n",
    "print(u.shape)\n",
    "\n",
    "v = np.array([\n",
    "    [7, 8],\n",
    "    [9, 10],\n",
    "    [11, 12]\n",
    "])\n",
    "print(v.shape)"
   ]
  },
  {
   "cell_type": "code",
   "execution_count": 25,
   "id": "1d20f283-f92f-430b-8641-6f2b6e89858a",
   "metadata": {},
   "outputs": [
    {
     "data": {
      "text/plain": [
       "array([[ 58.,  64.],\n",
       "       [139., 154.]])"
      ]
     },
     "execution_count": 25,
     "metadata": {},
     "output_type": "execute_result"
    }
   ],
   "source": [
    "matrix_matrix_multi(u,v)"
   ]
  },
  {
   "cell_type": "code",
   "execution_count": 19,
   "id": "d8cb0927-de6f-4de0-8c50-d553e884b4e9",
   "metadata": {},
   "outputs": [
    {
     "data": {
      "text/plain": [
       "array([[ 58,  64],\n",
       "       [139, 154]])"
      ]
     },
     "execution_count": 19,
     "metadata": {},
     "output_type": "execute_result"
    }
   ],
   "source": [
    "u.dot(v)"
   ]
  },
  {
   "cell_type": "markdown",
   "id": "6855fe7d",
   "metadata": {},
   "source": [
    "## Identity Matrix"
   ]
  },
  {
   "cell_type": "code",
   "execution_count": 26,
   "id": "360322e1-56dc-4580-b2aa-56c94a59700f",
   "metadata": {},
   "outputs": [
    {
     "data": {
      "text/plain": [
       "array([[1., 0., 0.],\n",
       "       [0., 1., 0.],\n",
       "       [0., 0., 1.]])"
      ]
     },
     "execution_count": 26,
     "metadata": {},
     "output_type": "execute_result"
    }
   ],
   "source": [
    "I = np.eye(3)\n",
    "I"
   ]
  },
  {
   "cell_type": "code",
   "execution_count": 31,
   "id": "7cacfd12-43af-4ed3-ae8c-a9629951021a",
   "metadata": {},
   "outputs": [
    {
     "data": {
      "text/plain": [
       "array([[1., 2., 3.],\n",
       "       [4., 5., 6.],\n",
       "       [2., 4., 1.]])"
      ]
     },
     "execution_count": 31,
     "metadata": {},
     "output_type": "execute_result"
    }
   ],
   "source": [
    "# Identity matrix multplied by matrix == that vary matrix\n",
    "M = np.array([\n",
    "    [1, 2, 3],\n",
    "    [4, 5, 6],\n",
    "    [2, 4, 1]])\n",
    "M.shape\n",
    "\n",
    "I.dot(M)"
   ]
  },
  {
   "cell_type": "markdown",
   "id": "027420af",
   "metadata": {},
   "source": [
    "## Inverse"
   ]
  },
  {
   "cell_type": "code",
   "execution_count": 32,
   "id": "de9abb8c-6b9d-49a0-be16-cc79a329061a",
   "metadata": {},
   "outputs": [
    {
     "data": {
      "text/plain": [
       "array([[-1.26666667,  0.66666667, -0.2       ],\n",
       "       [ 0.53333333, -0.33333333,  0.4       ],\n",
       "       [ 0.4       ,  0.        , -0.2       ]])"
      ]
     },
     "execution_count": 32,
     "metadata": {},
     "output_type": "execute_result"
    }
   ],
   "source": [
    "m_inv = np.linalg.inv(M)\n",
    "m_inv"
   ]
  },
  {
   "cell_type": "code",
   "execution_count": 38,
   "id": "85509e98-c01e-4742-9a49-65cfdd495dbd",
   "metadata": {},
   "outputs": [
    {
     "data": {
      "text/plain": [
       "array([[1., 0., 0.],\n",
       "       [0., 1., 0.],\n",
       "       [0., 0., 1.]])"
      ]
     },
     "execution_count": 38,
     "metadata": {},
     "output_type": "execute_result"
    }
   ],
   "source": [
    "#The product of Inverse and the matrix set is Identity Matrix\n",
    "\n",
    "m_inv.dot(M).round()"
   ]
  }
 ],
 "metadata": {
  "kernelspec": {
   "display_name": "Python 3 (ipykernel)",
   "language": "python",
   "name": "python3"
  },
  "language_info": {
   "codemirror_mode": {
    "name": "ipython",
    "version": 3
   },
   "file_extension": ".py",
   "mimetype": "text/x-python",
   "name": "python",
   "nbconvert_exporter": "python",
   "pygments_lexer": "ipython3",
   "version": "3.12.1"
  }
 },
 "nbformat": 4,
 "nbformat_minor": 5
}
