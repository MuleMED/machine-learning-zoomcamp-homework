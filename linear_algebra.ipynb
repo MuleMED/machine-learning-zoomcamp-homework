{
 "cells": [
  {
   "cell_type": "markdown",
   "id": "816afc0d",
   "metadata": {},
   "source": [
    "# Linear Algebra"
   ]
  },
  {
   "cell_type": "markdown",
   "id": "17752b75",
   "metadata": {},
   "source": []
  },
  {
   "cell_type": "code",
   "execution_count": 1,
   "id": "265e948f",
   "metadata": {},
   "outputs": [],
   "source": [
    "# Importing the library\n",
    "import numpy as np"
   ]
  },
  {
   "cell_type": "code",
   "execution_count": 2,
   "id": "e6b294f5",
   "metadata": {},
   "outputs": [
    {
     "data": {
      "text/plain": [
       "<module 'numpy' from '/home/codespace/.local/lib/python3.12/site-packages/numpy/__init__.py'>"
      ]
     },
     "execution_count": 2,
     "metadata": {},
     "output_type": "execute_result"
    }
   ],
   "source": [
    "np"
   ]
  },
  {
   "cell_type": "markdown",
   "id": "1f29a0e7",
   "metadata": {},
   "source": [
    "## Creating arrays"
   ]
  },
  {
   "cell_type": "code",
   "execution_count": 3,
   "id": "c32ce795-4787-4611-a056-f5634c6fec98",
   "metadata": {},
   "outputs": [],
   "source": [
    "#Creating the U and V vectors\n",
    "u = np.array([2,4,5,6])\n",
    "v = np.array([1,0,0,2])"
   ]
  },
  {
   "cell_type": "code",
   "execution_count": 4,
   "id": "a38da4a1-3cd8-44d8-aba9-49d0c90769da",
   "metadata": {},
   "outputs": [],
   "source": [
    "#Inspecting the vectors U and V"
   ]
  },
  {
   "cell_type": "code",
   "execution_count": 5,
   "id": "2a31c941-bbd0-46ff-afcc-6ad98f33756d",
   "metadata": {},
   "outputs": [
    {
     "name": "stdout",
     "output_type": "stream",
     "text": [
      "The shape of U:\n",
      "(4,)\n",
      "[2 4 5 6]\n",
      "The shape of V:\n",
      "(4,)\n",
      "[1 0 0 2]\n"
     ]
    }
   ],
   "source": [
    "print(f'The shape of U:')\n",
    "print(u.shape)\n",
    "print(u)\n",
    "print(f'The shape of V:')\n",
    "print(v.shape)\n",
    "print(v)"
   ]
  },
  {
   "cell_type": "markdown",
   "id": "e585f1e0",
   "metadata": {},
   "source": [
    "## Using the inplut Dot method"
   ]
  },
  {
   "cell_type": "code",
   "execution_count": 6,
   "id": "e4792636-25a1-4b2f-929d-7b3fc8f4d6ef",
   "metadata": {},
   "outputs": [
    {
     "data": {
      "text/plain": [
       "np.int64(14)"
      ]
     },
     "execution_count": 6,
     "metadata": {},
     "output_type": "execute_result"
    }
   ],
   "source": [
    "#get the dot \n",
    "u.dot(v)"
   ]
  },
  {
   "cell_type": "markdown",
   "id": "57352cf8",
   "metadata": {},
   "source": [
    "## Using a custom define method"
   ]
  },
  {
   "cell_type": "markdown",
   "id": "cb9e8ecd",
   "metadata": {},
   "source": [
    "### Vector to Vector Multplication"
   ]
  },
  {
   "cell_type": "code",
   "execution_count": 7,
   "id": "1abdb32e-5978-4d3c-917e-74aa8482169f",
   "metadata": {},
   "outputs": [
    {
     "data": {
      "text/plain": [
       "np.int64(12)"
      ]
     },
     "execution_count": 7,
     "metadata": {},
     "output_type": "execute_result"
    }
   ],
   "source": [
    "def vector_vector_multplication(v,u):\n",
    "    assert u.shape[0] == v.shape[0]\n",
    "\n",
    "    n = u.shape[0]\n",
    "    result = 0.0\n",
    "\n",
    "    for i in range(n):\n",
    "        result = u[i] * v[i]\n",
    "    return result\n",
    "\n",
    "vector_vector_multplication(u,v)"
   ]
  },
  {
   "cell_type": "markdown",
   "id": "a71a2d0e",
   "metadata": {},
   "source": [
    "### Matrix -  Vector Multplication"
   ]
  },
  {
   "cell_type": "code",
   "execution_count": 8,
   "id": "b42b18a6-e1e6-46e1-9051-f20b8f512a39",
   "metadata": {},
   "outputs": [
    {
     "data": {
      "text/plain": [
       "array([[2, 4, 5, 6],\n",
       "       [1, 2, 1, 2],\n",
       "       [3, 1, 2, 1]])"
      ]
     },
     "execution_count": 8,
     "metadata": {},
     "output_type": "execute_result"
    }
   ],
   "source": [
    "# 3 x 4 matrix\n",
    "m = np.array([\n",
    "    [2,4,5,6],\n",
    "    [1,2,1,2],\n",
    "    [3,1,2,1]\n",
    "])\n",
    "m"
   ]
  },
  {
   "cell_type": "code",
   "execution_count": 9,
   "id": "f8fb9c83-eff4-4c8a-99a0-858859936d48",
   "metadata": {},
   "outputs": [
    {
     "data": {
      "text/plain": [
       "array([[1. ],\n",
       "       [0.5],\n",
       "       [2. ],\n",
       "       [1. ]])"
      ]
     },
     "execution_count": 9,
     "metadata": {},
     "output_type": "execute_result"
    }
   ],
   "source": [
    "# 4 x 1 column vector\n",
    "k = np.array([\n",
    "    [1],\n",
    "    [0.5],\n",
    "    [2],\n",
    "    [1]\n",
    "])\n",
    "k"
   ]
  },
  {
   "cell_type": "code",
   "execution_count": 14,
   "id": "38718fa4-95a1-432a-b837-9fd220cf5d12",
   "metadata": {},
   "outputs": [
    {
     "name": "stdout",
     "output_type": "stream",
     "text": [
      "[20.   6.   8.5]\n"
     ]
    },
    {
     "name": "stderr",
     "output_type": "stream",
     "text": [
      "/tmp/ipykernel_28284/4146873605.py:5: DeprecationWarning: Conversion of an array with ndim > 0 to a scalar is deprecated, and will error in future. Ensure you extract a single element from your array before performing this operation. (Deprecated NumPy 1.25.)\n",
      "  result += float(u[i] * v[i])\n"
     ]
    }
   ],
   "source": [
    "\n",
    "def matrix_vector_multplication(m, k):\n",
    "    m = np.array(m)\n",
    "    k = np.array(k)\n",
    "\n",
    "    assert m.shape[1] == k.shape[0]\n",
    "    n = m.shape[0]\n",
    "    result = np.zeros(n)\n",
    "\n",
    "    for i in range(n):\n",
    "        result[i] = vector_vector_multplication(m[i], k)\n",
    "\n",
    "    return result\n",
    "\n",
    "\n",
    "\n",
    "print(matrix_vector_multplication(m, k))\n"
   ]
  },
  {
   "cell_type": "code",
   "execution_count": 11,
   "id": "a8669774-1b2d-42cb-ba4e-d3821ecd5659",
   "metadata": {},
   "outputs": [
    {
     "data": {
      "text/plain": [
       "array([[20. ],\n",
       "       [ 6. ],\n",
       "       [ 8.5]])"
      ]
     },
     "execution_count": 11,
     "metadata": {},
     "output_type": "execute_result"
    }
   ],
   "source": [
    "m.dot(k)"
   ]
  }
 ],
 "metadata": {
  "kernelspec": {
   "display_name": "Python 3 (ipykernel)",
   "language": "python",
   "name": "python3"
  },
  "language_info": {
   "codemirror_mode": {
    "name": "ipython",
    "version": 3
   },
   "file_extension": ".py",
   "mimetype": "text/x-python",
   "name": "python",
   "nbconvert_exporter": "python",
   "pygments_lexer": "ipython3",
   "version": "3.12.1"
  }
 },
 "nbformat": 4,
 "nbformat_minor": 5
}
