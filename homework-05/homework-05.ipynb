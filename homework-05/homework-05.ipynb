{
 "cells": [
  {
   "cell_type": "code",
   "execution_count": 1,
   "id": "a5d2d7e8-24c5-4377-b56e-0ce82257afa5",
   "metadata": {},
   "outputs": [
    {
     "name": "stdout",
     "output_type": "stream",
     "text": [
      "--2025-10-30 20:54:29--  https://github.com/DataTalksClub/machine-learning-zoomcamp/raw/refs/heads/master/cohorts/2025/05-deployment/pipeline_v1.bin\n",
      "Resolving github.com (github.com)... 20.207.73.82\n",
      "Connecting to github.com (github.com)|20.207.73.82|:443... connected.\n",
      "HTTP request sent, awaiting response... 302 Found\n",
      "Location: https://raw.githubusercontent.com/DataTalksClub/machine-learning-zoomcamp/refs/heads/master/cohorts/2025/05-deployment/pipeline_v1.bin [following]\n",
      "--2025-10-30 20:54:29--  https://raw.githubusercontent.com/DataTalksClub/machine-learning-zoomcamp/refs/heads/master/cohorts/2025/05-deployment/pipeline_v1.bin\n",
      "Resolving raw.githubusercontent.com (raw.githubusercontent.com)... 185.199.111.133, 185.199.108.133, 185.199.109.133, ...\n",
      "Connecting to raw.githubusercontent.com (raw.githubusercontent.com)|185.199.111.133|:443... connected.\n",
      "HTTP request sent, awaiting response... 200 OK\n",
      "Length: 1300 (1.3K) [application/octet-stream]\n",
      "Saving to: ‘pipeline_v1.bin’\n",
      "\n",
      "pipeline_v1.bin     100%[===================>]   1.27K  --.-KB/s    in 0s      \n",
      "\n",
      "2025-10-30 20:54:30 (93.8 MB/s) - ‘pipeline_v1.bin’ saved [1300/1300]\n",
      "\n"
     ]
    }
   ],
   "source": [
    "# Download the model file\n",
    "!wget -O pipeline_v1.bin https://github.com/DataTalksClub/machine-learning-zoomcamp/raw/refs/heads/master/cohorts/2025/05-deployment/pipeline_v1.bin"
   ]
  },
  {
   "cell_type": "code",
   "execution_count": 2,
   "id": "a5a08383-6702-457b-baa2-7fec6053e432",
   "metadata": {},
   "outputs": [
    {
     "name": "stdout",
     "output_type": "stream",
     "text": [
      "7d17d2e4dfbaf1e408e1a62e6e880d49  pipeline_v1.bin\n"
     ]
    }
   ],
   "source": [
    "# Verify checksum\n",
    "!md5sum pipeline_v1.bin"
   ]
  },
  {
   "cell_type": "code",
   "execution_count": 3,
   "id": "fe8eaae7-9d64-4117-9670-5cd528bbbe34",
   "metadata": {},
   "outputs": [],
   "source": [
    "import warnings\n",
    "warnings.filterwarnings(\"ignore\") "
   ]
  },
  {
   "cell_type": "code",
   "execution_count": 4,
   "id": "da1823ac-5d43-408e-9bf9-4e64adbbad21",
   "metadata": {},
   "outputs": [
    {
     "name": "stdout",
     "output_type": "stream",
     "text": [
      "Conversion probability: 0.534\n",
      "Question 3 Answer: 0.533\n"
     ]
    }
   ],
   "source": [
    "# Question 3: Load model and make prediction\n",
    "import pickle\n",
    "\n",
    "# Load the model\n",
    "with open('pipeline_v1.bin', 'rb') as f:\n",
    "    pipeline = pickle.load(f)\n",
    "\n",
    "# Define the client record\n",
    "client = {\n",
    "    \"lead_source\": \"paid_ads\",\n",
    "    \"number_of_courses_viewed\": 2,\n",
    "    \"annual_income\": 79276.0\n",
    "}\n",
    "\n",
    "# Make prediction\n",
    "probability = pipeline.predict_proba([client])[0][1]\n",
    "\n",
    "print(f\"Conversion probability: {probability:.3f}\")\n",
    "\n",
    "# Map to closest answer\n",
    "answers = [0.333, 0.533, 0.733, 0.933]\n",
    "closest = min(answers, key=lambda x: abs(x - probability))\n",
    "print(f\"Question 3 Answer: {closest}\")"
   ]
  },
  {
   "cell_type": "code",
   "execution_count": 5,
   "id": "2cc16fe7-f1a6-41e5-82de-f0477dcdd318",
   "metadata": {},
   "outputs": [],
   "source": [
    "# Question 4: FastAPI Service"
   ]
  },
  {
   "cell_type": "code",
   "execution_count": 6,
   "id": "41de9f89-627e-4343-a2d2-7593ad0553ac",
   "metadata": {},
   "outputs": [
    {
     "name": "stdout",
     "output_type": "stream",
     "text": [
      "Overwriting main.py\n"
     ]
    }
   ],
   "source": [
    "%%writefile main.py\n",
    "from fastapi import FastAPI\n",
    "from pydantic import BaseModel\n",
    "import pickle\n",
    "\n",
    "# Load model\n",
    "with open('pipeline_v1.bin', 'rb') as f:\n",
    "    pipeline = pickle.load(f)\n",
    "\n",
    "app = FastAPI()\n",
    "\n",
    "class Client(BaseModel):\n",
    "    lead_source: str\n",
    "    number_of_courses_viewed: int\n",
    "    annual_income: float\n",
    "\n",
    "@app.post(\"/predict\")\n",
    "def predict(client: Client):\n",
    "    probability = pipeline.predict_proba([client.dict()])[0][1]\n",
    "    return {\"conversion_probability\": round(probability, 3)}\n",
    "\n",
    "if __name__ == \"__main__\":\n",
    "    import uvicorn\n",
    "    uvicorn.run(app, host=\"0.0.0.0\", port=8000)\n"
   ]
  },
  {
   "cell_type": "code",
   "execution_count": 7,
   "id": "21df1200-b3a8-45d0-9181-ff6141c60d7e",
   "metadata": {},
   "outputs": [
    {
     "name": "stderr",
     "output_type": "stream",
     "text": [
      "/home/codespace/.local/lib/python3.12/site-packages/sklearn/base.py:440: InconsistentVersionWarning: Trying to unpickle estimator DictVectorizer from version 1.6.1 when using version 1.7.0. This might lead to breaking code or invalid results. Use at your own risk. For more info please refer to:\n",
      "https://scikit-learn.org/stable/model_persistence.html#security-maintainability-limitations\n",
      "  warnings.warn(\n",
      "/home/codespace/.local/lib/python3.12/site-packages/sklearn/base.py:440: InconsistentVersionWarning: Trying to unpickle estimator LogisticRegression from version 1.6.1 when using version 1.7.0. This might lead to breaking code or invalid results. Use at your own risk. For more info please refer to:\n",
      "https://scikit-learn.org/stable/model_persistence.html#security-maintainability-limitations\n",
      "  warnings.warn(\n",
      "/home/codespace/.local/lib/python3.12/site-packages/sklearn/base.py:440: InconsistentVersionWarning: Trying to unpickle estimator Pipeline from version 1.6.1 when using version 1.7.0. This might lead to breaking code or invalid results. Use at your own risk. For more info please refer to:\n",
      "https://scikit-learn.org/stable/model_persistence.html#security-maintainability-limitations\n",
      "  warnings.warn(\n",
      "INFO:     Started server process [27533]\n",
      "INFO:     Waiting for application startup.\n",
      "INFO:     Application startup complete.\n",
      "INFO:     Uvicorn running on http://0.0.0.0:8000 (Press CTRL+C to quit)\n"
     ]
    },
    {
     "name": "stdout",
     "output_type": "stream",
     "text": [
      "INFO:     127.0.0.1:54520 - \"POST /predict HTTP/1.1\" 200 OK\n",
      "API Response: {'conversion_probability': 0.534}\n",
      "Probability: 0.534\n",
      "Question 4 Answer: 0.534\n"
     ]
    }
   ],
   "source": [
    "# Start the FastAPI server in background\n",
    "import subprocess\n",
    "import time\n",
    "import requests\n",
    "\n",
    "# Start the server\n",
    "server_process = subprocess.Popen(['uvicorn', 'main:app', '--host', '0.0.0.0', '--port', '8000'])\n",
    "\n",
    "# Wait for server to start\n",
    "time.sleep(5)\n",
    "\n",
    "# Test the API\n",
    "url = \"http://localhost:8000/predict\"\n",
    "client = {\n",
    "    \"lead_source\": \"organic_search\",\n",
    "    \"number_of_courses_viewed\": 4,\n",
    "    \"annual_income\": 80304.0\n",
    "}\n",
    "\n",
    "try:\n",
    "    response = requests.post(url, json=client)\n",
    "    result = response.json()\n",
    "    probability = result[\"conversion_probability\"]\n",
    "    \n",
    "    print(f\"API Response: {result}\")\n",
    "    print(f\"Probability: {probability}\")\n",
    "    \n",
    "    # Map to closest answer\n",
    "    answers = [0.334, 0.534, 0.734, 0.934]\n",
    "    closest = min(answers, key=lambda x: abs(x - probability))\n",
    "    print(f\"Question 4 Answer: {closest}\")\n",
    "    \n",
    "except Exception as e:\n",
    "    print(f\"Error: {e}\")\n",
    "\n",
    "# Stop the server\n",
    "server_process.terminate()"
   ]
  },
  {
   "cell_type": "code",
   "execution_count": 8,
   "id": "5d3adebe-0ebe-4517-85a2-0c8aba765b16",
   "metadata": {},
   "outputs": [
    {
     "name": "stdout",
     "output_type": "stream",
     "text": [
      "INFO:     127.0.0.1:54524 - \"POST /predict HTTP/1.1\" 200 OK\n",
      "Docker API Response: {'conversion_probability': 0.534}\n",
      "Probability: 0.534\n",
      "Question 6 Answer: 0.59\n"
     ]
    }
   ],
   "source": [
    "# Final test script for Question 6 (run after Docker container is running)\n",
    "import requests\n",
    "\n",
    "url = \"http://localhost:8000/predict\"\n",
    "client = {\n",
    "    \"lead_source\": \"organic_search\",\n",
    "    \"number_of_courses_viewed\": 4,\n",
    "    \"annual_income\": 80304.0\n",
    "}\n",
    "\n",
    "try:\n",
    "    response = requests.post(url, json=client)\n",
    "    result = response.json()\n",
    "    probability = result[\"conversion_probability\"]\n",
    "    \n",
    "    print(f\"Docker API Response: {result}\")\n",
    "    print(f\"Probability: {probability}\")\n",
    "    \n",
    "    # Map to closest answer\n",
    "    answers = [0.39, 0.59, 0.79, 0.99]\n",
    "    closest = min(answers, key=lambda x: abs(x - probability))\n",
    "    print(f\"Question 6 Answer: {closest}\")\n",
    "    \n",
    "except Exception as e:\n",
    "    print(f\"Error: {e}. Make sure Docker container is running.\")"
   ]
  }
 ],
 "metadata": {
  "kernelspec": {
   "display_name": "Python 3 (ipykernel)",
   "language": "python",
   "name": "python3"
  },
  "language_info": {
   "codemirror_mode": {
    "name": "ipython",
    "version": 3
   },
   "file_extension": ".py",
   "mimetype": "text/x-python",
   "name": "python",
   "nbconvert_exporter": "python",
   "pygments_lexer": "ipython3",
   "version": "3.12.1"
  }
 },
 "nbformat": 4,
 "nbformat_minor": 5
}
